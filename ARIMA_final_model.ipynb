{
 "cells": [
  {
   "cell_type": "code",
   "execution_count": 1,
   "id": "6c434446",
   "metadata": {},
   "outputs": [],
   "source": [
    "import numpy as np\n",
    "import matplotlib.pyplot as plt\n",
    "import datetime as dt\n",
    "import yfinance as yf\n",
    "import pandas as pd \n",
    "from statsmodels.tsa.arima.model import ARIMA\n",
    "from statsmodels.tsa.stattools import adfuller\n",
    "from statsmodels.tsa.stattools import acf,pacf\n",
    "import warnings\n",
    "warnings.filterwarnings('ignore')"
   ]
  },
  {
   "cell_type": "code",
   "execution_count": 2,
   "id": "fe711ed6",
   "metadata": {},
   "outputs": [],
   "source": [
    "train_start = dt.date(2017,1,1)\n",
    "train_end = dt.date(2024,1,1)\n",
    "test_start = dt.date(2024,1,2)\n",
    "test_end = dt.datetime.today()"
   ]
  },
  {
   "cell_type": "code",
   "execution_count": 3,
   "id": "ce94f929",
   "metadata": {},
   "outputs": [],
   "source": [
    "ticker = '^NSEI'"
   ]
  },
  {
   "cell_type": "code",
   "execution_count": 4,
   "id": "afa9c36e",
   "metadata": {},
   "outputs": [
    {
     "name": "stdout",
     "output_type": "stream",
     "text": [
      "[*********************100%%**********************]  1 of 1 completed\n",
      "[*********************100%%**********************]  1 of 1 completed\n",
      "[*********************100%%**********************]  1 of 1 completed\n"
     ]
    }
   ],
   "source": [
    "df_train = yf.download(ticker,train_start,train_end)\n",
    "df_test = yf.download(ticker,test_start,test_end)\n",
    "df = yf.download(ticker,train_start,test_end)"
   ]
  },
  {
   "cell_type": "code",
   "execution_count": 5,
   "id": "9d2ca60b",
   "metadata": {},
   "outputs": [],
   "source": [
    "df_train.drop(columns = ['Open','High','Close','Low','Volume'],inplace = True)\n",
    "df_test.drop(columns = ['Open','High','Close','Low','Volume'],inplace = True)"
   ]
  },
  {
   "cell_type": "code",
   "execution_count": 6,
   "id": "bb9779fe",
   "metadata": {},
   "outputs": [],
   "source": [
    "df.drop(columns = ['Open','High','Close','Low','Volume'],inplace = True)"
   ]
  },
  {
   "cell_type": "code",
   "execution_count": 7,
   "id": "50b4fe01",
   "metadata": {},
   "outputs": [],
   "source": [
    "df_train_l = df_train['Adj Close'].to_list()\n",
    "df_test_l = df_test['Adj Close'].to_list()"
   ]
  },
  {
   "cell_type": "code",
   "execution_count": 8,
   "id": "fb5a5e1c",
   "metadata": {},
   "outputs": [],
   "source": [
    "df_l = df['Adj Close'].to_list()"
   ]
  },
  {
   "cell_type": "code",
   "execution_count": 9,
   "id": "285dc8ed",
   "metadata": {},
   "outputs": [],
   "source": [
    "from pmdarima import auto_arima"
   ]
  },
  {
   "cell_type": "code",
   "execution_count": 10,
   "id": "4ef86390",
   "metadata": {},
   "outputs": [
    {
     "name": "stdout",
     "output_type": "stream",
     "text": [
      "Performing stepwise search to minimize aic\n",
      " ARIMA(2,1,2)(0,0,0)[0] intercept   : AIC=21814.035, Time=1.53 sec\n",
      " ARIMA(0,1,0)(0,0,0)[0] intercept   : AIC=21822.208, Time=0.03 sec\n",
      " ARIMA(1,1,0)(0,0,0)[0] intercept   : AIC=21823.598, Time=0.03 sec\n",
      " ARIMA(0,1,1)(0,0,0)[0] intercept   : AIC=21823.613, Time=0.09 sec\n",
      " ARIMA(0,1,0)(0,0,0)[0]             : AIC=21826.003, Time=0.01 sec\n",
      " ARIMA(1,1,2)(0,0,0)[0] intercept   : AIC=21827.542, Time=0.28 sec\n",
      " ARIMA(2,1,1)(0,0,0)[0] intercept   : AIC=21827.508, Time=0.32 sec\n",
      " ARIMA(3,1,2)(0,0,0)[0] intercept   : AIC=inf, Time=1.48 sec\n",
      " ARIMA(2,1,3)(0,0,0)[0] intercept   : AIC=inf, Time=1.28 sec\n",
      " ARIMA(1,1,1)(0,0,0)[0] intercept   : AIC=21825.597, Time=0.26 sec\n",
      " ARIMA(1,1,3)(0,0,0)[0] intercept   : AIC=21828.203, Time=0.51 sec\n",
      " ARIMA(3,1,1)(0,0,0)[0] intercept   : AIC=21828.648, Time=0.30 sec\n",
      " ARIMA(3,1,3)(0,0,0)[0] intercept   : AIC=21822.593, Time=0.78 sec\n",
      " ARIMA(2,1,2)(0,0,0)[0]             : AIC=21833.023, Time=0.07 sec\n",
      "\n",
      "Best model:  ARIMA(2,1,2)(0,0,0)[0] intercept\n",
      "Total fit time: 7.015 seconds\n"
     ]
    }
   ],
   "source": [
    "p_d_q = auto_arima(df_train, trace = True, supress_warnings = True)"
   ]
  },
  {
   "cell_type": "code",
   "execution_count": 11,
   "id": "70f6befe",
   "metadata": {},
   "outputs": [
    {
     "data": {
      "text/html": [
       "<div>\n",
       "<style scoped>\n",
       "    .dataframe tbody tr th:only-of-type {\n",
       "        vertical-align: middle;\n",
       "    }\n",
       "\n",
       "    .dataframe tbody tr th {\n",
       "        vertical-align: top;\n",
       "    }\n",
       "\n",
       "    .dataframe thead th {\n",
       "        text-align: right;\n",
       "    }\n",
       "</style>\n",
       "<table border=\"1\" class=\"dataframe\">\n",
       "  <thead>\n",
       "    <tr style=\"text-align: right;\">\n",
       "      <th></th>\n",
       "      <th>Adj Close</th>\n",
       "    </tr>\n",
       "    <tr>\n",
       "      <th>Date</th>\n",
       "      <th></th>\n",
       "    </tr>\n",
       "  </thead>\n",
       "  <tbody>\n",
       "    <tr>\n",
       "      <th>2023-12-22</th>\n",
       "      <td>21349.400391</td>\n",
       "    </tr>\n",
       "    <tr>\n",
       "      <th>2023-12-26</th>\n",
       "      <td>21441.349609</td>\n",
       "    </tr>\n",
       "    <tr>\n",
       "      <th>2023-12-27</th>\n",
       "      <td>21654.750000</td>\n",
       "    </tr>\n",
       "    <tr>\n",
       "      <th>2023-12-28</th>\n",
       "      <td>21778.699219</td>\n",
       "    </tr>\n",
       "    <tr>\n",
       "      <th>2023-12-29</th>\n",
       "      <td>21731.400391</td>\n",
       "    </tr>\n",
       "  </tbody>\n",
       "</table>\n",
       "</div>"
      ],
      "text/plain": [
       "               Adj Close\n",
       "Date                    \n",
       "2023-12-22  21349.400391\n",
       "2023-12-26  21441.349609\n",
       "2023-12-27  21654.750000\n",
       "2023-12-28  21778.699219\n",
       "2023-12-29  21731.400391"
      ]
     },
     "execution_count": 11,
     "metadata": {},
     "output_type": "execute_result"
    }
   ],
   "source": [
    "df_train.tail()"
   ]
  },
  {
   "cell_type": "code",
   "execution_count": 12,
   "id": "d7090a2d",
   "metadata": {},
   "outputs": [
    {
     "data": {
      "text/html": [
       "<div>\n",
       "<style scoped>\n",
       "    .dataframe tbody tr th:only-of-type {\n",
       "        vertical-align: middle;\n",
       "    }\n",
       "\n",
       "    .dataframe tbody tr th {\n",
       "        vertical-align: top;\n",
       "    }\n",
       "\n",
       "    .dataframe thead th {\n",
       "        text-align: right;\n",
       "    }\n",
       "</style>\n",
       "<table border=\"1\" class=\"dataframe\">\n",
       "  <thead>\n",
       "    <tr style=\"text-align: right;\">\n",
       "      <th></th>\n",
       "      <th>Adj Close</th>\n",
       "    </tr>\n",
       "    <tr>\n",
       "      <th>Date</th>\n",
       "      <th></th>\n",
       "    </tr>\n",
       "  </thead>\n",
       "  <tbody>\n",
       "    <tr>\n",
       "      <th>2024-01-02</th>\n",
       "      <td>21665.800781</td>\n",
       "    </tr>\n",
       "    <tr>\n",
       "      <th>2024-01-03</th>\n",
       "      <td>21517.349609</td>\n",
       "    </tr>\n",
       "    <tr>\n",
       "      <th>2024-01-04</th>\n",
       "      <td>21658.599609</td>\n",
       "    </tr>\n",
       "    <tr>\n",
       "      <th>2024-01-05</th>\n",
       "      <td>21710.800781</td>\n",
       "    </tr>\n",
       "    <tr>\n",
       "      <th>2024-01-08</th>\n",
       "      <td>21513.000000</td>\n",
       "    </tr>\n",
       "  </tbody>\n",
       "</table>\n",
       "</div>"
      ],
      "text/plain": [
       "               Adj Close\n",
       "Date                    \n",
       "2024-01-02  21665.800781\n",
       "2024-01-03  21517.349609\n",
       "2024-01-04  21658.599609\n",
       "2024-01-05  21710.800781\n",
       "2024-01-08  21513.000000"
      ]
     },
     "execution_count": 12,
     "metadata": {},
     "output_type": "execute_result"
    }
   ],
   "source": [
    "df_test.head()"
   ]
  },
  {
   "cell_type": "code",
   "execution_count": 15,
   "id": "510721b5",
   "metadata": {},
   "outputs": [],
   "source": [
    "predictions = []\n",
    "for i in range(len(df_test_l)):\n",
    "    \n",
    "    model = ARIMA(df_train_l, order=(2,1,2))\n",
    "    model_fit = model.fit()\n",
    "    output = model_fit.forecast()\n",
    "    yhat = output[0]\n",
    "\n",
    "    predictions.append(yhat)\n",
    "    \n",
    "#     test_values = df_test_l[i]\n",
    "#     df_train_l.append(test_values)"
   ]
  },
  {
   "cell_type": "code",
   "execution_count": 16,
   "id": "470ccd8e",
   "metadata": {},
   "outputs": [
    {
     "data": {
      "text/plain": [
       "[22123.020879353724,\n",
       " 22123.020879353724,\n",
       " 22123.020879353724,\n",
       " 22123.020879353724,\n",
       " 22123.020879353724,\n",
       " 22123.020879353724,\n",
       " 22123.020879353724,\n",
       " 22123.020879353724,\n",
       " 22123.020879353724,\n",
       " 22123.020879353724,\n",
       " 22123.020879353724,\n",
       " 22123.020879353724,\n",
       " 22123.020879353724,\n",
       " 22123.020879353724,\n",
       " 22123.020879353724,\n",
       " 22123.020879353724,\n",
       " 22123.020879353724,\n",
       " 22123.020879353724,\n",
       " 22123.020879353724,\n",
       " 22123.020879353724,\n",
       " 22123.020879353724,\n",
       " 22123.020879353724,\n",
       " 22123.020879353724,\n",
       " 22123.020879353724,\n",
       " 22123.020879353724,\n",
       " 22123.020879353724,\n",
       " 22123.020879353724,\n",
       " 22123.020879353724,\n",
       " 22123.020879353724,\n",
       " 22123.020879353724,\n",
       " 22123.020879353724,\n",
       " 22123.020879353724,\n",
       " 22123.020879353724,\n",
       " 22123.020879353724,\n",
       " 22123.020879353724,\n",
       " 22123.020879353724,\n",
       " 22123.020879353724,\n",
       " 22123.020879353724,\n",
       " 22123.020879353724,\n",
       " 22123.020879353724,\n",
       " 22123.020879353724,\n",
       " 22123.020879353724,\n",
       " 22123.020879353724,\n",
       " 22123.020879353724,\n",
       " 22123.020879353724,\n",
       " 22123.020879353724,\n",
       " 22123.020879353724,\n",
       " 22123.020879353724,\n",
       " 22123.020879353724,\n",
       " 22123.020879353724,\n",
       " 22123.020879353724,\n",
       " 22123.020879353724,\n",
       " 22123.020879353724,\n",
       " 22123.020879353724,\n",
       " 22123.020879353724,\n",
       " 22123.020879353724,\n",
       " 22123.020879353724,\n",
       " 22123.020879353724]"
      ]
     },
     "execution_count": 16,
     "metadata": {},
     "output_type": "execute_result"
    }
   ],
   "source": [
    "predictions"
   ]
  },
  {
   "cell_type": "code",
   "execution_count": 69,
   "id": "6b655e03",
   "metadata": {},
   "outputs": [
    {
     "name": "stdout",
     "output_type": "stream",
     "text": [
      "                               SARIMAX Results                                \n",
      "==============================================================================\n",
      "Dep. Variable:                      y   No. Observations:                 1782\n",
      "Model:                 ARIMA(2, 1, 2)   Log Likelihood              -11277.932\n",
      "Date:                Wed, 27 Mar 2024   AIC                          22565.864\n",
      "Time:                        19:34:56   BIC                          22593.288\n",
      "Sample:                             0   HQIC                         22575.993\n",
      "                               - 1782                                         \n",
      "Covariance Type:                  opg                                         \n",
      "==============================================================================\n",
      "                 coef    std err          z      P>|z|      [0.025      0.975]\n",
      "------------------------------------------------------------------------------\n",
      "ar.L1         -0.6003      0.013    -45.942      0.000      -0.626      -0.575\n",
      "ar.L2         -0.9480      0.013    -75.229      0.000      -0.973      -0.923\n",
      "ma.L1          0.6262      0.008     75.084      0.000       0.610       0.643\n",
      "ma.L2          0.9794      0.009    108.803      0.000       0.962       0.997\n",
      "sigma2      1.903e+04    333.255     57.113      0.000    1.84e+04    1.97e+04\n",
      "===================================================================================\n",
      "Ljung-Box (L1) (Q):                   0.45   Jarque-Bera (JB):              3383.90\n",
      "Prob(Q):                              0.50   Prob(JB):                         0.00\n",
      "Heteroskedasticity (H):               4.28   Skew:                            -0.75\n",
      "Prob(H) (two-sided):                  0.00   Kurtosis:                         9.58\n",
      "===================================================================================\n",
      "\n",
      "Warnings:\n",
      "[1] Covariance matrix calculated using the outer product of gradients (complex-step).\n"
     ]
    }
   ],
   "source": [
    "print(model_fit.summary())"
   ]
  },
  {
   "cell_type": "code",
   "execution_count": 70,
   "id": "5eb2691f",
   "metadata": {},
   "outputs": [],
   "source": [
    "df_test['predictions'] = predictions"
   ]
  },
  {
   "cell_type": "code",
   "execution_count": 72,
   "id": "dcc87b96",
   "metadata": {},
   "outputs": [
    {
     "data": {
      "text/plain": [
       "<Axes: xlabel='Date'>"
      ]
     },
     "execution_count": 72,
     "metadata": {},
     "output_type": "execute_result"
    },
    {
     "data": {
      "image/png": "[encoded data removed]",
      "text/plain": [
       "<Figure size 640x480 with 1 Axes>"
      ]
     },
     "metadata": {},
     "output_type": "display_data"
    }
   ],
   "source": [
    "df_test[['Adj Close','predictions']].plot(grid = True)"
   ]
  },
  {
   "cell_type": "code",
   "execution_count": null,
   "id": "59afa383",
   "metadata": {},
   "outputs": [],
   "source": []
  }
 ],
 "metadata": {
  "kernelspec": {
   "display_name": "Python 3 (ipykernel)",
   "language": "python",
   "name": "python3"
  },
  "language_info": {
   "codemirror_mode": {
    "name": "ipython",
    "version": 3
   },
   "file_extension": ".py",
   "mimetype": "text/x-python",
   "name": "python",
   "nbconvert_exporter": "python",
   "pygments_lexer": "ipython3",
   "version": "3.11.4"
  }
 },
 "nbformat": 4,
 "nbformat_minor": 5
}
